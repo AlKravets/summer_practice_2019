{
 "cells": [
  {
   "cell_type": "code",
   "execution_count": 1,
   "metadata": {},
   "outputs": [
    {
     "name": "stderr",
     "output_type": "stream",
     "text": [
      "Using TensorFlow backend.\n"
     ]
    }
   ],
   "source": [
    "import tensorflow\n",
    "import keras"
   ]
  },
  {
   "cell_type": "code",
   "execution_count": 2,
   "metadata": {},
   "outputs": [],
   "source": [
    "from keras.datasets import mnist\n",
    "from keras.models import Sequential\n",
    "from keras.layers import Dense\n",
    "from keras import utils"
   ]
  },
  {
   "cell_type": "code",
   "execution_count": 3,
   "metadata": {},
   "outputs": [],
   "source": [
    "(x_train, y_train), (x_test, y_test) = mnist.load_data()\n",
    "#28*28\n",
    "x_train = x_train.reshape(60000, 784)\n",
    "# нормализация\n",
    "x_train =x_train /255\n",
    "\n",
    "y_train = utils.to_categorical(y_train,10)\n"
   ]
  },
  {
   "cell_type": "code",
   "execution_count": 4,
   "metadata": {},
   "outputs": [],
   "source": [
    "model = Sequential()\n",
    "\n",
    "model.add(Dense(800,input_dim = 784, activation =\"relu\"))\n",
    "model.add(Dense(10, activation =\"softmax\"))"
   ]
  },
  {
   "cell_type": "code",
   "execution_count": 5,
   "metadata": {},
   "outputs": [
    {
     "name": "stdout",
     "output_type": "stream",
     "text": [
      "_________________________________________________________________\n",
      "Layer (type)                 Output Shape              Param #   \n",
      "=================================================================\n",
      "dense_1 (Dense)              (None, 800)               628000    \n",
      "_________________________________________________________________\n",
      "dense_2 (Dense)              (None, 10)                8010      \n",
      "=================================================================\n",
      "Total params: 636,010\n",
      "Trainable params: 636,010\n",
      "Non-trainable params: 0\n",
      "_________________________________________________________________\n",
      "None\n"
     ]
    }
   ],
   "source": [
    "sgd = keras.optimizers.SGD(lr=0.01, momentum=0.1, decay=0.0, nesterov=False)\n",
    "model.compile(loss = \"categorical_crossentropy\", optimizer =sgd, metrics =[\"accuracy\"] )\n",
    "print(model.summary())"
   ]
  },
  {
   "cell_type": "code",
   "execution_count": 6,
   "metadata": {},
   "outputs": [
    {
     "name": "stdout",
     "output_type": "stream",
     "text": [
      "Train on 48000 samples, validate on 12000 samples\n",
      "Epoch 1/100\n",
      "48000/48000 [==============================] - 3s 70us/step - loss: 1.3688 - acc: 0.7101 - val_loss: 0.8143 - val_acc: 0.8465\n",
      "Epoch 2/100\n",
      "48000/48000 [==============================] - 1s 24us/step - loss: 0.6930 - acc: 0.8505 - val_loss: 0.5495 - val_acc: 0.8764\n",
      "Epoch 3/100\n",
      "48000/48000 [==============================] - 1s 23us/step - loss: 0.5318 - acc: 0.8725 - val_loss: 0.4541 - val_acc: 0.8924\n",
      "Epoch 4/100\n",
      "48000/48000 [==============================] - 1s 23us/step - loss: 0.4599 - acc: 0.8836 - val_loss: 0.4049 - val_acc: 0.8994\n",
      "Epoch 5/100\n",
      "48000/48000 [==============================] - 1s 23us/step - loss: 0.4181 - acc: 0.8907 - val_loss: 0.3748 - val_acc: 0.9028\n",
      "Epoch 6/100\n",
      "48000/48000 [==============================] - 1s 23us/step - loss: 0.3900 - acc: 0.8958 - val_loss: 0.3531 - val_acc: 0.9071\n",
      "Epoch 7/100\n",
      "48000/48000 [==============================] - 1s 23us/step - loss: 0.3694 - acc: 0.9003 - val_loss: 0.3375 - val_acc: 0.9091\n",
      "Epoch 8/100\n",
      "48000/48000 [==============================] - 1s 23us/step - loss: 0.3532 - acc: 0.9038 - val_loss: 0.3246 - val_acc: 0.9127\n",
      "Epoch 9/100\n",
      "48000/48000 [==============================] - 1s 23us/step - loss: 0.3401 - acc: 0.9070 - val_loss: 0.3142 - val_acc: 0.9147\n",
      "Epoch 10/100\n",
      "48000/48000 [==============================] - 1s 23us/step - loss: 0.3289 - acc: 0.9098 - val_loss: 0.3052 - val_acc: 0.9172\n",
      "Epoch 11/100\n",
      "48000/48000 [==============================] - 1s 23us/step - loss: 0.3192 - acc: 0.9123 - val_loss: 0.2976 - val_acc: 0.9185\n",
      "Epoch 12/100\n",
      "48000/48000 [==============================] - 1s 23us/step - loss: 0.3108 - acc: 0.9140 - val_loss: 0.2906 - val_acc: 0.9203\n",
      "Epoch 13/100\n",
      "48000/48000 [==============================] - 1s 23us/step - loss: 0.3030 - acc: 0.9160 - val_loss: 0.2842 - val_acc: 0.9224\n",
      "Epoch 14/100\n",
      "48000/48000 [==============================] - 1s 23us/step - loss: 0.2961 - acc: 0.9175 - val_loss: 0.2786 - val_acc: 0.9242\n",
      "Epoch 15/100\n",
      "48000/48000 [==============================] - 1s 23us/step - loss: 0.2897 - acc: 0.9191 - val_loss: 0.2734 - val_acc: 0.9242\n",
      "Epoch 16/100\n",
      "48000/48000 [==============================] - 1s 23us/step - loss: 0.2838 - acc: 0.9208 - val_loss: 0.2683 - val_acc: 0.9259\n",
      "Epoch 17/100\n",
      "48000/48000 [==============================] - 1s 23us/step - loss: 0.2782 - acc: 0.9221 - val_loss: 0.2637 - val_acc: 0.9272\n",
      "Epoch 18/100\n",
      "48000/48000 [==============================] - 1s 23us/step - loss: 0.2730 - acc: 0.9241 - val_loss: 0.2599 - val_acc: 0.9278\n",
      "Epoch 19/100\n",
      "48000/48000 [==============================] - 1s 23us/step - loss: 0.2681 - acc: 0.9258 - val_loss: 0.2555 - val_acc: 0.9294\n",
      "Epoch 20/100\n",
      "48000/48000 [==============================] - 1s 23us/step - loss: 0.2634 - acc: 0.9270 - val_loss: 0.2513 - val_acc: 0.9302\n",
      "Epoch 21/100\n",
      "48000/48000 [==============================] - 1s 23us/step - loss: 0.2589 - acc: 0.9284 - val_loss: 0.2479 - val_acc: 0.9314\n",
      "Epoch 22/100\n",
      "48000/48000 [==============================] - 1s 23us/step - loss: 0.2548 - acc: 0.9294 - val_loss: 0.2445 - val_acc: 0.9323\n",
      "Epoch 23/100\n",
      "48000/48000 [==============================] - 1s 22us/step - loss: 0.2507 - acc: 0.9304 - val_loss: 0.2410 - val_acc: 0.9342\n",
      "Epoch 24/100\n",
      "48000/48000 [==============================] - 1s 22us/step - loss: 0.2469 - acc: 0.9316 - val_loss: 0.2377 - val_acc: 0.9349\n",
      "Epoch 25/100\n",
      "48000/48000 [==============================] - 1s 23us/step - loss: 0.2431 - acc: 0.9325 - val_loss: 0.2347 - val_acc: 0.9362\n",
      "Epoch 26/100\n",
      "48000/48000 [==============================] - 1s 22us/step - loss: 0.2394 - acc: 0.9332 - val_loss: 0.2316 - val_acc: 0.9363\n",
      "Epoch 27/100\n",
      "48000/48000 [==============================] - 1s 23us/step - loss: 0.2361 - acc: 0.9344 - val_loss: 0.2289 - val_acc: 0.9370\n",
      "Epoch 28/100\n",
      "48000/48000 [==============================] - 1s 22us/step - loss: 0.2326 - acc: 0.9354 - val_loss: 0.2260 - val_acc: 0.9387\n",
      "Epoch 29/100\n",
      "48000/48000 [==============================] - 1s 23us/step - loss: 0.2294 - acc: 0.9366 - val_loss: 0.2232 - val_acc: 0.9389\n",
      "Epoch 30/100\n",
      "48000/48000 [==============================] - 1s 22us/step - loss: 0.2263 - acc: 0.9371 - val_loss: 0.2206 - val_acc: 0.9396\n",
      "Epoch 31/100\n",
      "48000/48000 [==============================] - 1s 22us/step - loss: 0.2232 - acc: 0.9382 - val_loss: 0.2182 - val_acc: 0.9402\n",
      "Epoch 32/100\n",
      "48000/48000 [==============================] - 1s 23us/step - loss: 0.2202 - acc: 0.9388 - val_loss: 0.2158 - val_acc: 0.9412\n",
      "Epoch 33/100\n",
      "48000/48000 [==============================] - 1s 23us/step - loss: 0.2174 - acc: 0.9398 - val_loss: 0.2135 - val_acc: 0.9422\n",
      "Epoch 34/100\n",
      "48000/48000 [==============================] - 1s 22us/step - loss: 0.2145 - acc: 0.9407 - val_loss: 0.2110 - val_acc: 0.9432\n",
      "Epoch 35/100\n",
      "48000/48000 [==============================] - 1s 23us/step - loss: 0.2118 - acc: 0.9417 - val_loss: 0.2089 - val_acc: 0.9434\n",
      "Epoch 36/100\n",
      "48000/48000 [==============================] - 1s 23us/step - loss: 0.2092 - acc: 0.9421 - val_loss: 0.2066 - val_acc: 0.9442\n",
      "Epoch 37/100\n",
      "48000/48000 [==============================] - 1s 23us/step - loss: 0.2066 - acc: 0.9431 - val_loss: 0.2044 - val_acc: 0.9447\n",
      "Epoch 38/100\n",
      "48000/48000 [==============================] - 1s 23us/step - loss: 0.2040 - acc: 0.9437 - val_loss: 0.2024 - val_acc: 0.9451\n",
      "Epoch 39/100\n",
      "48000/48000 [==============================] - 1s 23us/step - loss: 0.2017 - acc: 0.9442 - val_loss: 0.2005 - val_acc: 0.9462\n",
      "Epoch 40/100\n",
      "48000/48000 [==============================] - 1s 23us/step - loss: 0.1992 - acc: 0.9449 - val_loss: 0.1984 - val_acc: 0.9466\n",
      "Epoch 41/100\n",
      "48000/48000 [==============================] - 1s 23us/step - loss: 0.1969 - acc: 0.9456 - val_loss: 0.1964 - val_acc: 0.9469\n",
      "Epoch 42/100\n",
      "48000/48000 [==============================] - 1s 23us/step - loss: 0.1946 - acc: 0.9465 - val_loss: 0.1949 - val_acc: 0.9475\n",
      "Epoch 43/100\n",
      "48000/48000 [==============================] - 1s 24us/step - loss: 0.1924 - acc: 0.9471 - val_loss: 0.1930 - val_acc: 0.9474\n",
      "Epoch 44/100\n",
      "48000/48000 [==============================] - 1s 23us/step - loss: 0.1901 - acc: 0.9475 - val_loss: 0.1910 - val_acc: 0.9490\n",
      "Epoch 45/100\n",
      "48000/48000 [==============================] - 1s 23us/step - loss: 0.1881 - acc: 0.9484 - val_loss: 0.1893 - val_acc: 0.9484\n",
      "Epoch 46/100\n",
      "48000/48000 [==============================] - 1s 23us/step - loss: 0.1860 - acc: 0.9488 - val_loss: 0.1877 - val_acc: 0.9493\n",
      "Epoch 47/100\n",
      "48000/48000 [==============================] - 1s 23us/step - loss: 0.1839 - acc: 0.9493 - val_loss: 0.1860 - val_acc: 0.9497\n",
      "Epoch 48/100\n",
      "48000/48000 [==============================] - 1s 23us/step - loss: 0.1819 - acc: 0.9499 - val_loss: 0.1843 - val_acc: 0.9497\n",
      "Epoch 49/100\n",
      "48000/48000 [==============================] - 1s 23us/step - loss: 0.1800 - acc: 0.9502 - val_loss: 0.1828 - val_acc: 0.9499\n",
      "Epoch 50/100\n",
      "48000/48000 [==============================] - 1s 23us/step - loss: 0.1780 - acc: 0.9506 - val_loss: 0.1812 - val_acc: 0.9510\n",
      "Epoch 51/100\n",
      "48000/48000 [==============================] - 1s 22us/step - loss: 0.1761 - acc: 0.9512 - val_loss: 0.1799 - val_acc: 0.9512\n",
      "Epoch 52/100\n",
      "48000/48000 [==============================] - 1s 23us/step - loss: 0.1742 - acc: 0.9518 - val_loss: 0.1785 - val_acc: 0.9508\n",
      "Epoch 53/100\n",
      "48000/48000 [==============================] - 1s 23us/step - loss: 0.1725 - acc: 0.9521 - val_loss: 0.1766 - val_acc: 0.9522\n",
      "Epoch 54/100\n",
      "48000/48000 [==============================] - 1s 23us/step - loss: 0.1707 - acc: 0.9528 - val_loss: 0.1751 - val_acc: 0.9525\n",
      "Epoch 55/100\n",
      "48000/48000 [==============================] - 1s 23us/step - loss: 0.1689 - acc: 0.9532 - val_loss: 0.1738 - val_acc: 0.9527\n",
      "Epoch 56/100\n",
      "48000/48000 [==============================] - 1s 23us/step - loss: 0.1673 - acc: 0.9539 - val_loss: 0.1727 - val_acc: 0.9526\n",
      "Epoch 57/100\n",
      "48000/48000 [==============================] - 1s 23us/step - loss: 0.1656 - acc: 0.9542 - val_loss: 0.1710 - val_acc: 0.9538\n",
      "Epoch 58/100\n",
      "48000/48000 [==============================] - 1s 23us/step - loss: 0.1639 - acc: 0.9549 - val_loss: 0.1697 - val_acc: 0.9539\n",
      "Epoch 59/100\n"
     ]
    },
    {
     "name": "stdout",
     "output_type": "stream",
     "text": [
      "48000/48000 [==============================] - 1s 22us/step - loss: 0.1623 - acc: 0.9550 - val_loss: 0.1685 - val_acc: 0.9547\n",
      "Epoch 60/100\n",
      "48000/48000 [==============================] - 1s 23us/step - loss: 0.1607 - acc: 0.9559 - val_loss: 0.1672 - val_acc: 0.9547\n",
      "Epoch 61/100\n",
      "48000/48000 [==============================] - 1s 23us/step - loss: 0.1591 - acc: 0.9559 - val_loss: 0.1660 - val_acc: 0.9549\n",
      "Epoch 62/100\n",
      "48000/48000 [==============================] - 1s 22us/step - loss: 0.1576 - acc: 0.9564 - val_loss: 0.1648 - val_acc: 0.9553\n",
      "Epoch 63/100\n",
      "48000/48000 [==============================] - 1s 23us/step - loss: 0.1560 - acc: 0.9569 - val_loss: 0.1637 - val_acc: 0.9555\n",
      "Epoch 64/100\n",
      "48000/48000 [==============================] - 1s 23us/step - loss: 0.1547 - acc: 0.9570 - val_loss: 0.1625 - val_acc: 0.9563\n",
      "Epoch 65/100\n",
      "48000/48000 [==============================] - 1s 26us/step - loss: 0.1532 - acc: 0.9579 - val_loss: 0.1614 - val_acc: 0.9558\n",
      "Epoch 66/100\n",
      "48000/48000 [==============================] - 1s 24us/step - loss: 0.1517 - acc: 0.9582 - val_loss: 0.1604 - val_acc: 0.9562\n",
      "Epoch 67/100\n",
      "48000/48000 [==============================] - 1s 23us/step - loss: 0.1503 - acc: 0.9586 - val_loss: 0.1591 - val_acc: 0.9570\n",
      "Epoch 68/100\n",
      "48000/48000 [==============================] - 1s 23us/step - loss: 0.1489 - acc: 0.9590 - val_loss: 0.1580 - val_acc: 0.9568\n",
      "Epoch 69/100\n",
      "48000/48000 [==============================] - 1s 23us/step - loss: 0.1476 - acc: 0.9595 - val_loss: 0.1569 - val_acc: 0.9572\n",
      "Epoch 70/100\n",
      "48000/48000 [==============================] - 1s 23us/step - loss: 0.1463 - acc: 0.9597 - val_loss: 0.1559 - val_acc: 0.9576\n",
      "Epoch 71/100\n",
      "48000/48000 [==============================] - 1s 23us/step - loss: 0.1449 - acc: 0.9599 - val_loss: 0.1550 - val_acc: 0.9579\n",
      "Epoch 72/100\n",
      "48000/48000 [==============================] - 1s 22us/step - loss: 0.1437 - acc: 0.9607 - val_loss: 0.1539 - val_acc: 0.9585\n",
      "Epoch 73/100\n",
      "48000/48000 [==============================] - 1s 23us/step - loss: 0.1424 - acc: 0.9610 - val_loss: 0.1530 - val_acc: 0.9583\n",
      "Epoch 74/100\n",
      "48000/48000 [==============================] - 1s 22us/step - loss: 0.1411 - acc: 0.9614 - val_loss: 0.1524 - val_acc: 0.9584\n",
      "Epoch 75/100\n",
      "48000/48000 [==============================] - 1s 22us/step - loss: 0.1399 - acc: 0.9618 - val_loss: 0.1509 - val_acc: 0.9589\n",
      "Epoch 76/100\n",
      "48000/48000 [==============================] - 1s 23us/step - loss: 0.1387 - acc: 0.9621 - val_loss: 0.1500 - val_acc: 0.9592\n",
      "Epoch 77/100\n",
      "48000/48000 [==============================] - 1s 22us/step - loss: 0.1375 - acc: 0.9624 - val_loss: 0.1491 - val_acc: 0.9597\n",
      "Epoch 78/100\n",
      "48000/48000 [==============================] - 1s 22us/step - loss: 0.1364 - acc: 0.9626 - val_loss: 0.1484 - val_acc: 0.9603\n",
      "Epoch 79/100\n",
      "48000/48000 [==============================] - 1s 22us/step - loss: 0.1352 - acc: 0.9631 - val_loss: 0.1477 - val_acc: 0.9600\n",
      "Epoch 80/100\n",
      "48000/48000 [==============================] - 1s 22us/step - loss: 0.1341 - acc: 0.9636 - val_loss: 0.1464 - val_acc: 0.9604\n",
      "Epoch 81/100\n",
      "48000/48000 [==============================] - 1s 23us/step - loss: 0.1329 - acc: 0.9640 - val_loss: 0.1458 - val_acc: 0.9603\n",
      "Epoch 82/100\n",
      "48000/48000 [==============================] - 1s 23us/step - loss: 0.1318 - acc: 0.9642 - val_loss: 0.1451 - val_acc: 0.9608\n",
      "Epoch 83/100\n",
      "48000/48000 [==============================] - 1s 23us/step - loss: 0.1307 - acc: 0.9648 - val_loss: 0.1443 - val_acc: 0.9604\n",
      "Epoch 84/100\n",
      "48000/48000 [==============================] - 1s 23us/step - loss: 0.1296 - acc: 0.9648 - val_loss: 0.1433 - val_acc: 0.9618\n",
      "Epoch 85/100\n",
      "48000/48000 [==============================] - 1s 23us/step - loss: 0.1286 - acc: 0.9654 - val_loss: 0.1425 - val_acc: 0.9614\n",
      "Epoch 86/100\n",
      "48000/48000 [==============================] - 1s 22us/step - loss: 0.1276 - acc: 0.9656 - val_loss: 0.1416 - val_acc: 0.9613\n",
      "Epoch 87/100\n",
      "48000/48000 [==============================] - 1s 23us/step - loss: 0.1265 - acc: 0.9656 - val_loss: 0.1409 - val_acc: 0.9621\n",
      "Epoch 88/100\n",
      "48000/48000 [==============================] - 1s 23us/step - loss: 0.1255 - acc: 0.9661 - val_loss: 0.1401 - val_acc: 0.9618\n",
      "Epoch 89/100\n",
      "48000/48000 [==============================] - 1s 22us/step - loss: 0.1245 - acc: 0.9664 - val_loss: 0.1395 - val_acc: 0.9618\n",
      "Epoch 90/100\n",
      "48000/48000 [==============================] - 1s 23us/step - loss: 0.1236 - acc: 0.9668 - val_loss: 0.1386 - val_acc: 0.9623\n",
      "Epoch 91/100\n",
      "48000/48000 [==============================] - 1s 23us/step - loss: 0.1226 - acc: 0.9673 - val_loss: 0.1379 - val_acc: 0.9622\n",
      "Epoch 92/100\n",
      "48000/48000 [==============================] - 1s 23us/step - loss: 0.1216 - acc: 0.9672 - val_loss: 0.1375 - val_acc: 0.9625\n",
      "Epoch 93/100\n",
      "48000/48000 [==============================] - 1s 22us/step - loss: 0.1207 - acc: 0.9679 - val_loss: 0.1363 - val_acc: 0.9621\n",
      "Epoch 94/100\n",
      "48000/48000 [==============================] - 1s 23us/step - loss: 0.1197 - acc: 0.9681 - val_loss: 0.1359 - val_acc: 0.9629\n",
      "Epoch 95/100\n",
      "48000/48000 [==============================] - 1s 23us/step - loss: 0.1188 - acc: 0.9684 - val_loss: 0.1353 - val_acc: 0.9627\n",
      "Epoch 96/100\n",
      "48000/48000 [==============================] - 1s 22us/step - loss: 0.1179 - acc: 0.9685 - val_loss: 0.1346 - val_acc: 0.9633\n",
      "Epoch 97/100\n",
      "48000/48000 [==============================] - 1s 23us/step - loss: 0.1170 - acc: 0.9689 - val_loss: 0.1339 - val_acc: 0.9634\n",
      "Epoch 98/100\n",
      "48000/48000 [==============================] - 1s 23us/step - loss: 0.1162 - acc: 0.9691 - val_loss: 0.1333 - val_acc: 0.9638\n",
      "Epoch 99/100\n",
      "48000/48000 [==============================] - 1s 23us/step - loss: 0.1153 - acc: 0.9693 - val_loss: 0.1327 - val_acc: 0.9634\n",
      "Epoch 100/100\n",
      "48000/48000 [==============================] - 1s 22us/step - loss: 0.1144 - acc: 0.9696 - val_loss: 0.1320 - val_acc: 0.9636\n"
     ]
    },
    {
     "data": {
      "text/plain": [
       "<keras.callbacks.History at 0x186b9ff4908>"
      ]
     },
     "execution_count": 6,
     "metadata": {},
     "output_type": "execute_result"
    }
   ],
   "source": [
    "model.fit(x_train, y_train, batch_size = 200, epochs = 100, validation_split = 0.2, verbose = 1)"
   ]
  },
  {
   "cell_type": "code",
   "execution_count": 7,
   "metadata": {},
   "outputs": [
    {
     "name": "stdout",
     "output_type": "stream",
     "text": [
      "10000/10000 [==============================] - 0s 30us/step\n"
     ]
    },
    {
     "data": {
      "text/plain": [
       "[0.1274778686352074, 0.9636]"
      ]
     },
     "execution_count": 7,
     "metadata": {},
     "output_type": "execute_result"
    }
   ],
   "source": [
    "x_test = x_test.reshape(10000, 784)\n",
    "x_test = x_test/255\n",
    "y_test = utils.to_categorical(y_test,10)\n",
    "\n",
    "model.evaluate(x_test,y_test, verbose =1)"
   ]
  },
  {
   "cell_type": "code",
   "execution_count": null,
   "metadata": {},
   "outputs": [],
   "source": []
  }
 ],
 "metadata": {
  "kernelspec": {
   "display_name": "Python 3",
   "language": "python",
   "name": "python3"
  },
  "language_info": {
   "codemirror_mode": {
    "name": "ipython",
    "version": 3
   },
   "file_extension": ".py",
   "mimetype": "text/x-python",
   "name": "python",
   "nbconvert_exporter": "python",
   "pygments_lexer": "ipython3",
   "version": "3.5.6"
  }
 },
 "nbformat": 4,
 "nbformat_minor": 2
}
